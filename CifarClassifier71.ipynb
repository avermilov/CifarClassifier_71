{
 "cells": [
  {
   "cell_type": "code",
   "execution_count": 2,
   "metadata": {},
   "outputs": [
    {
     "name": "stdout",
     "output_type": "stream",
     "text": [
      "cuda:0\n"
     ]
    }
   ],
   "source": [
    "import torch\n",
    "import torchvision\n",
    "import torchvision.transforms as transforms\n",
    "\n",
    "# attempt to use gpu if available\n",
    "device = torch.device(\"cuda:0\" if torch.cuda.is_available() else \"cpu\")\n",
    "print(device)"
   ]
  },
  {
   "cell_type": "code",
   "execution_count": 3,
   "metadata": {},
   "outputs": [
    {
     "name": "stdout",
     "output_type": "stream",
     "text": [
      "Files already downloaded and verified\n",
      "Files already downloaded and verified\n"
     ]
    }
   ],
   "source": [
    "# downloading and preparing our datasets\n",
    "transform = transforms.Compose(\n",
    "    [transforms.ToTensor(),\n",
    "     transforms.Normalize((0.5, 0.5, 0.5), (0.5, 0.5, 0.5))])\n",
    "\n",
    "trainset = torchvision.datasets.CIFAR10(root='./data', train=True,\n",
    "                                        download=True, transform=transform)\n",
    "trainloader = torch.utils.data.DataLoader(trainset, batch_size=4,\n",
    "                                          shuffle=True, num_workers=2)\n",
    "\n",
    "testset = torchvision.datasets.CIFAR10(root='./data', train=False,\n",
    "                                       download=True, transform=transform)\n",
    "testloader = torch.utils.data.DataLoader(testset, batch_size=4,\n",
    "                                         shuffle=False, num_workers=2)\n",
    "\n",
    "# classes used in cifar 10 dataset\n",
    "classes = ('plane', 'car', 'bird', 'cat',\n",
    "           'deer', 'dog', 'frog', 'horse', 'ship', 'truck')"
   ]
  },
  {
   "cell_type": "code",
   "execution_count": 4,
   "metadata": {},
   "outputs": [
    {
     "data": {
      "image/png": "[encoded data removed]",
      "text/plain": [
       "<Figure size 432x288 with 1 Axes>"
      ]
     },
     "metadata": {
      "needs_background": "light"
     },
     "output_type": "display_data"
    },
    {
     "name": "stdout",
     "output_type": "stream",
     "text": [
      " bird horse   dog   dog\n"
     ]
    }
   ],
   "source": [
    "import matplotlib.pyplot as plt\n",
    "import numpy as np\n",
    "\n",
    "# here we check that the images are fine and display a few of them\n",
    "\n",
    "\n",
    "def imshow(img):\n",
    "    img = img / 2 + 0.5     # unnormalize\n",
    "    npimg = img.numpy()\n",
    "    plt.imshow(np.transpose(npimg, (1, 2, 0)))\n",
    "    plt.show()\n",
    "\n",
    "\n",
    "# get some random training images\n",
    "dataiter = iter(trainloader)\n",
    "images, labels = dataiter.next()\n",
    "\n",
    "# show images\n",
    "imshow(torchvision.utils.make_grid(images))\n",
    "# print labels\n",
    "print(' '.join('%5s' % classes[labels[j]] for j in range(4)))"
   ]
  },
  {
   "cell_type": "code",
   "execution_count": 5,
   "metadata": {},
   "outputs": [
    {
     "name": "stdout",
     "output_type": "stream",
     "text": [
      "Net(\n",
      "  (conv1): Conv2d(3, 150, kernel_size=(5, 5), stride=(1, 1))\n",
      "  (pool): MaxPool2d(kernel_size=2, stride=2, padding=0, dilation=1, ceil_mode=False)\n",
      "  (conv2): Conv2d(150, 16, kernel_size=(5, 5), stride=(1, 1))\n",
      "  (fc1): Linear(in_features=400, out_features=160, bias=True)\n",
      "  (fc2): Linear(in_features=160, out_features=140, bias=True)\n",
      "  (fc3): Linear(in_features=140, out_features=10, bias=True)\n",
      ")\n"
     ]
    }
   ],
   "source": [
    "import torch.nn as nn\n",
    "import torch.nn.functional as F\n",
    "\n",
    "# this is our net used for training, it containts 2 conv layers and 3 fully connected layers\n",
    "class Net(nn.Module):\n",
    "    def __init__(self):\n",
    "        super(Net, self).__init__()\n",
    "        \n",
    "        self.conv1 = nn.Conv2d(3, 150, 5)\n",
    "        self.pool = nn.MaxPool2d(2, 2)\n",
    "        self.conv2 = nn.Conv2d(150, 16, 5)\n",
    "        \n",
    "        self.fc1 = nn.Linear(16 * 5 * 5, 160)\n",
    "        self.fc2 = nn.Linear(160, 140)\n",
    "        self.fc3 = nn.Linear(140, 10)\n",
    "\n",
    "    def forward(self, x):\n",
    "        x = self.pool(F.relu(self.conv1(x)))\n",
    "        x = self.pool(F.relu(self.conv2(x)))\n",
    "        x = x.view(-1, 16 * 5 * 5)\n",
    "        x = F.relu(self.fc1(x))\n",
    "        x = F.relu(self.fc2(x))\n",
    "        x = self.fc3(x)\n",
    "        return x\n",
    "\n",
    "# create net and carry over to device (hopefully the gpu)\n",
    "net = Net()\n",
    "net = net.to(device)\n",
    "print(net)"
   ]
  },
  {
   "cell_type": "code",
   "execution_count": 6,
   "metadata": {},
   "outputs": [],
   "source": [
    "import torch.optim as optim\n",
    "\n",
    "# initializing our optimizers for tweaking weights and criterions for calculating errors\n",
    "# our initial learning rate is set to 0.001, however, it will change later on in order to reach least loss\n",
    "criterion = nn.CrossEntropyLoss()\n",
    "optimizer = optim.SGD(net.parameters(), lr=0.001, momentum=0.9)"
   ]
  },
  {
   "cell_type": "code",
   "execution_count": 7,
   "metadata": {},
   "outputs": [
    {
     "name": "stdout",
     "output_type": "stream",
     "text": [
      "[1,  2000] loss: 2.044\n",
      "[1,  4000] loss: 1.674\n",
      "[1,  6000] loss: 1.536\n",
      "[1,  8000] loss: 1.466\n",
      "[1, 10000] loss: 1.380\n",
      "[1, 12000] loss: 1.323\n",
      "[2,  2000] loss: 1.255\n",
      "[2,  4000] loss: 1.206\n",
      "[2,  6000] loss: 1.187\n",
      "[2,  8000] loss: 1.173\n",
      "[2, 10000] loss: 1.121\n",
      "[2, 12000] loss: 1.119\n",
      "Finished Training\n"
     ]
    }
   ],
   "source": [
    "# first two epochs using initial learning rate\n",
    "for epoch in range(2):\n",
    "    \n",
    "    running_loss = 0.0\n",
    "     \n",
    "    for i, data in enumerate(trainloader, 0):\n",
    "        inputs, labels = data\n",
    "        # this is used for carrying data over to the device used (hopefully gpu)\n",
    "        inputs, labels = inputs.to(device), labels.to(device)\n",
    "        optimizer.zero_grad()\n",
    "    \n",
    "        outputs = net(inputs)\n",
    "        loss = criterion(outputs, labels)\n",
    "    \n",
    "        loss.backward()\n",
    "        optimizer.step()\n",
    "    \n",
    "        running_loss += loss.item()\n",
    "        if i % 2000 == 1999:  \n",
    "            print('[%d, %5d] loss: %.3f' % (epoch + 1, i + 1, running_loss / 2000))\n",
    "            running_loss = 0.0\n",
    "print('Finished Training')"
   ]
  },
  {
   "cell_type": "code",
   "execution_count": 8,
   "metadata": {},
   "outputs": [
    {
     "name": "stdout",
     "output_type": "stream",
     "text": [
      "[1,  2000] loss: 0.927\n",
      "[1,  4000] loss: 0.893\n",
      "[1,  6000] loss: 0.899\n",
      "[1,  8000] loss: 0.903\n",
      "[1, 10000] loss: 0.891\n",
      "[1, 12000] loss: 0.898\n",
      "[2,  2000] loss: 0.823\n",
      "[2,  4000] loss: 0.839\n",
      "[2,  6000] loss: 0.846\n",
      "[2,  8000] loss: 0.817\n",
      "[2, 10000] loss: 0.808\n",
      "[2, 12000] loss: 0.824\n",
      "[3,  2000] loss: 0.769\n",
      "[3,  4000] loss: 0.776\n",
      "[3,  6000] loss: 0.784\n",
      "[3,  8000] loss: 0.771\n",
      "[3, 10000] loss: 0.785\n",
      "[3, 12000] loss: 0.778\n",
      "Finished Training\n"
     ]
    }
   ],
   "source": [
    "# after first two epochs we decrease the learning rate to get least loss \n",
    "# and avoid getting stuck with higher learning rate\n",
    "for g in optimizer.param_groups:\n",
    "    g['lr'] = 0.0003\n",
    "for epoch in range(3):\n",
    "    \n",
    "    running_loss = 0.0\n",
    "     \n",
    "    for i, data in enumerate(trainloader, 0):\n",
    "        inputs, labels = data\n",
    "        # this is used for carrying data over to the device used (hopefully gpu)\n",
    "        inputs, labels = inputs.to(device), labels.to(device)\n",
    "        optimizer.zero_grad()\n",
    "    \n",
    "        outputs = net(inputs)\n",
    "        loss = criterion(outputs, labels)\n",
    "    \n",
    "        loss.backward()\n",
    "        optimizer.step()\n",
    "    \n",
    "        running_loss += loss.item()\n",
    "        if i % 2000 == 1999:  \n",
    "            print('[%d, %5d] loss: %.3f' % (epoch + 1, i + 1, running_loss / 2000))\n",
    "            running_loss = 0.0\n",
    "print('Finished Training')"
   ]
  },
  {
   "cell_type": "code",
   "execution_count": 9,
   "metadata": {},
   "outputs": [
    {
     "name": "stdout",
     "output_type": "stream",
     "text": [
      "[1,  2000] loss: 0.690\n",
      "[1,  4000] loss: 0.657\n",
      "[1,  6000] loss: 0.672\n",
      "[1,  8000] loss: 0.636\n",
      "[1, 10000] loss: 0.639\n",
      "[1, 12000] loss: 0.649\n",
      "[2,  2000] loss: 0.635\n",
      "[2,  4000] loss: 0.645\n",
      "[2,  6000] loss: 0.631\n",
      "[2,  8000] loss: 0.638\n",
      "[2, 10000] loss: 0.636\n",
      "[2, 12000] loss: 0.632\n",
      "Finished Training\n"
     ]
    }
   ],
   "source": [
    "# we decrease the learning rate even further\n",
    "for g in optimizer.param_groups:\n",
    "    g['lr'] = 0.000035\n",
    "    \n",
    "for epoch in range(2):\n",
    "    \n",
    "    running_loss = 0.0\n",
    "     \n",
    "    for i, data in enumerate(trainloader, 0):\n",
    "        inputs, labels = data\n",
    "        inputs, labels = inputs.to(device), labels.to(device)\n",
    "        optimizer.zero_grad()\n",
    "    \n",
    "        outputs = net(inputs)\n",
    "        loss = criterion(outputs, labels)\n",
    "    \n",
    "        loss.backward()\n",
    "        optimizer.step()\n",
    "    \n",
    "        running_loss += loss.item()\n",
    "        if i % 2000 == 1999:  \n",
    "            print('[%d, %5d] loss: %.3f' % (epoch + 1, i + 1, running_loss / 2000))\n",
    "            running_loss = 0.0\n",
    "print('Finished Training')"
   ]
  },
  {
   "cell_type": "code",
   "execution_count": 10,
   "metadata": {},
   "outputs": [
    {
     "name": "stdout",
     "output_type": "stream",
     "text": [
      "[1,  2000] loss: 0.598\n",
      "[1,  4000] loss: 0.596\n",
      "[1,  6000] loss: 0.607\n",
      "[1,  8000] loss: 0.626\n",
      "[1, 10000] loss: 0.633\n",
      "[1, 12000] loss: 0.639\n",
      "[2,  2000] loss: 0.612\n",
      "[2,  4000] loss: 0.606\n",
      "[2,  6000] loss: 0.603\n",
      "[2,  8000] loss: 0.627\n",
      "[2, 10000] loss: 0.625\n",
      "[2, 12000] loss: 0.608\n",
      "Finished Training\n"
     ]
    }
   ],
   "source": [
    "# finally, we decrease learning rate even further and do two more epochs with smallest learning rate so far#\n",
    "for g in optimizer.param_groups:\n",
    "    g['lr'] = 0.000006\n",
    "    \n",
    "for epoch in range(2):\n",
    "    \n",
    "    running_loss = 0.0\n",
    "     \n",
    "    for i, data in enumerate(trainloader, 0):\n",
    "        inputs, labels = data\n",
    "        inputs, labels = inputs.to(device), labels.to(device)\n",
    "        optimizer.zero_grad()\n",
    "    \n",
    "        outputs = net(inputs)\n",
    "        loss = criterion(outputs, labels)\n",
    "    \n",
    "        loss.backward()\n",
    "        optimizer.step()\n",
    "    \n",
    "        running_loss += loss.item()\n",
    "        if i % 2000 == 1999:  \n",
    "            print('[%d, %5d] loss: %.3f' % (epoch + 1, i + 1, running_loss / 2000))\n",
    "            running_loss = 0.0\n",
    "print('Finished Training')"
   ]
  },
  {
   "cell_type": "code",
   "execution_count": 11,
   "metadata": {},
   "outputs": [
    {
     "name": "stdout",
     "output_type": "stream",
     "text": [
      "[1,  2000] loss: 0.589\n",
      "[1,  4000] loss: 0.604\n",
      "[1,  6000] loss: 0.630\n",
      "[1,  8000] loss: 0.604\n",
      "[1, 10000] loss: 0.618\n",
      "[1, 12000] loss: 0.609\n",
      "[2,  2000] loss: 0.608\n",
      "[2,  4000] loss: 0.605\n",
      "[2,  6000] loss: 0.608\n",
      "[2,  8000] loss: 0.598\n",
      "[2, 10000] loss: 0.609\n",
      "[2, 12000] loss: 0.620\n",
      "Finished Training\n"
     ]
    }
   ],
   "source": [
    "for g in optimizer.param_groups:\n",
    "    g['lr'] = 0.000001\n",
    "    \n",
    "for epoch in range(2):\n",
    "    \n",
    "    running_loss = 0.0\n",
    "     \n",
    "    for i, data in enumerate(trainloader, 0):\n",
    "        inputs, labels = data\n",
    "        inputs, labels = inputs.to(device), labels.to(device)\n",
    "        optimizer.zero_grad()\n",
    "    \n",
    "        outputs = net(inputs)\n",
    "        loss = criterion(outputs, labels)\n",
    "    \n",
    "        loss.backward()\n",
    "        optimizer.step()\n",
    "    \n",
    "        running_loss += loss.item()\n",
    "        if i % 2000 == 1999:  \n",
    "            print('[%d, %5d] loss: %.3f' % (epoch + 1, i + 1, running_loss / 2000))\n",
    "            running_loss = 0.0\n",
    "print('Finished Training')"
   ]
  },
  {
   "cell_type": "code",
   "execution_count": 12,
   "metadata": {},
   "outputs": [
    {
     "name": "stdout",
     "output_type": "stream",
     "text": [
      "Ground truth:    cat  ship  ship plane\n",
      "Predicted:    cat  ship  ship plane\n"
     ]
    }
   ],
   "source": [
    "# here we get one random batch and see how our model does on it\n",
    "# and compare to actual result\n",
    "dataiter = iter(testloader)\n",
    "images, labels = dataiter.next()\n",
    "images, labels = images.to(device), labels.to(device)\n",
    "\n",
    "    \n",
    "print('Ground truth: ', ' '.join('%5s' % classes[labels[j]] for j in\n",
    "                                     range(4)))\n",
    "    \n",
    "outputs = net(images)\n",
    "_, predicted = torch.max(outputs, 1)\n",
    "print('Predicted: ', ' '.join('%5s' % classes[predicted[j]] for j in range(4)))"
   ]
  },
  {
   "cell_type": "code",
   "execution_count": 13,
   "metadata": {},
   "outputs": [],
   "source": [
    "# path where we store our successful model\n",
    "PATH = './cifar_net.pth'"
   ]
  },
  {
   "cell_type": "code",
   "execution_count": null,
   "metadata": {},
   "outputs": [],
   "source": [
    "# saving the model\n",
    "torch.save(net.state_dict(), PATH)"
   ]
  },
  {
   "cell_type": "code",
   "execution_count": 14,
   "metadata": {},
   "outputs": [
    {
     "data": {
      "text/plain": [
       "<All keys matched successfully>"
      ]
     },
     "execution_count": 14,
     "metadata": {},
     "output_type": "execute_result"
    }
   ],
   "source": [
    "# creating new net with parameters from previous best model\n",
    "net = Net()\n",
    "net.to(device)\n",
    "net.load_state_dict(torch.load(PATH))"
   ]
  },
  {
   "cell_type": "code",
   "execution_count": 15,
   "metadata": {},
   "outputs": [
    {
     "name": "stdout",
     "output_type": "stream",
     "text": [
      "Accuracy of the network on the 10000 test images: 71 %\n"
     ]
    }
   ],
   "source": [
    "# now we check how our model does on the test set \n",
    "correct = 0\n",
    "total = 0\n",
    "with torch.no_grad():\n",
    "    for data in testloader:\n",
    "        images, labels = data\n",
    "        images, labels = images.to(device), labels.to(device)\n",
    "        outputs = net(images)\n",
    "        _, predicted = torch.max(outputs.data, 1)\n",
    "        total += labels.size(0)\n",
    "        correct += (predicted == labels).sum().item()\n",
    "print('Accuracy of the network on the 10000 test images: %d %%' % (100 * correct / total))"
   ]
  },
  {
   "cell_type": "code",
   "execution_count": 16,
   "metadata": {},
   "outputs": [
    {
     "name": "stdout",
     "output_type": "stream",
     "text": [
      "Accuracy of plane : 78 %\n",
      "Accuracy of   car : 83 %\n",
      "Accuracy of  bird : 59 %\n",
      "Accuracy of   cat : 49 %\n",
      "Accuracy of  deer : 67 %\n",
      "Accuracy of   dog : 57 %\n",
      "Accuracy of  frog : 82 %\n",
      "Accuracy of horse : 75 %\n",
      "Accuracy of  ship : 81 %\n",
      "Accuracy of truck : 79 %\n"
     ]
    }
   ],
   "source": [
    "# finally we output separate accuracy scores for each class\n",
    "class_correct = list(0. for i in range(10))\n",
    "class_total = list(0. for i in range(10))\n",
    "with torch.no_grad():\n",
    "    for data in testloader:\n",
    "        images, labels = data\n",
    "        images, labels = images.to(device), labels.to(device)\n",
    "        outputs = net(images)\n",
    "        _, predicted = torch.max(outputs, 1)\n",
    "        c = (predicted == labels).squeeze()\n",
    "        for i in range(4):\n",
    "            label = labels[i]\n",
    "            class_correct[label] += c[i].item()\n",
    "            class_total[label] += 1\n",
    "    \n",
    "    \n",
    "for i in range(10):\n",
    "     print('Accuracy of %5s : %2d %%' % (classes[i], 100 * class_correct[i] / class_total[i]))"
   ]
  },
  {
   "cell_type": "code",
   "execution_count": null,
   "metadata": {},
   "outputs": [],
   "source": []
  }
 ],
 "metadata": {
  "kernelspec": {
   "display_name": "Python 3",
   "language": "python",
   "name": "python3"
  },
  "language_info": {
   "codemirror_mode": {
    "name": "ipython",
    "version": 3
   },
   "file_extension": ".py",
   "mimetype": "text/x-python",
   "name": "python",
   "nbconvert_exporter": "python",
   "pygments_lexer": "ipython3",
   "version": "3.7.6"
  }
 },
 "nbformat": 4,
 "nbformat_minor": 4
}
